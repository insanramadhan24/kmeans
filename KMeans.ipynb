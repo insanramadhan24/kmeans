{
 "cells": [
  {
   "cell_type": "markdown",
   "id": "fd27bc57",
   "metadata": {},
   "source": [
    "# K-Means Algorithm"
   ]
  },
  {
   "cell_type": "code",
   "execution_count": 23,
   "id": "118f073b",
   "metadata": {},
   "outputs": [],
   "source": [
    "import numpy as np\n",
    "import pandas as pd\n",
    "import random"
   ]
  },
  {
   "cell_type": "code",
   "execution_count": 24,
   "id": "f0cf88af",
   "metadata": {},
   "outputs": [],
   "source": [
    "## defining the variable"
   ]
  },
  {
   "cell_type": "code",
   "execution_count": 25,
   "id": "c7d040c2",
   "metadata": {},
   "outputs": [],
   "source": [
    "def generate_sample(n):\n",
    "    data = np.random.rand(n,2)\n",
    "    return data"
   ]
  },
  {
   "cell_type": "code",
   "execution_count": 26,
   "id": "01ea7671",
   "metadata": {},
   "outputs": [],
   "source": [
    "def random_centroid(k,data):\n",
    "    centroid = np.random.rand(k,2)\n",
    "    for i in range(k):\n",
    "        centroid[i] = np.min(centroid[i,:]) + (np.max(centroid[i,:]) - np.min(centroid[i,:])) * centroid[i,:]\n",
    "    return centroid"
   ]
  },
  {
   "cell_type": "code",
   "execution_count": 27,
   "id": "61da72f0",
   "metadata": {},
   "outputs": [],
   "source": [
    "def new_centroid(kmeans_iter):\n",
    "    new_centroid = []\n",
    "    for centroid in kmeans_iter[2].unique():\n",
    "        data_check = kmeans_iter.loc[kmeans_iter[2]==centroid]\n",
    "        centroid_point_1 = data_check[0].mean()\n",
    "        centroid_point_2 = data_check[1].mean()\n",
    "        centroid_iter = (centroid_point_1,centroid_point_2)\n",
    "        new_centroid.append(centroid_iter)\n",
    "    return new_centroid"
   ]
  },
  {
   "cell_type": "code",
   "execution_count": 28,
   "id": "73b5c64a",
   "metadata": {},
   "outputs": [],
   "source": [
    "def calculate_distance(data,centroid):\n",
    "    k_result = []\n",
    "    for i in range(len(data)):\n",
    "        result = []\n",
    "        for k in range(len(centroid)):\n",
    "            distance = np.linalg.norm(data[i] - centroid[k])\n",
    "            calculate = [k,distance]\n",
    "            result.append(calculate)\n",
    "        distance_calc = pd.DataFrame(result)\n",
    "        min_distance = distance_calc.loc[distance_calc[1]==distance_calc[1].min()]\n",
    "        min_k = min_distance.iloc[0,0] + 1\n",
    "        distance = min_distance.iloc[0,1]\n",
    "        k_data = [data[i][0],data[i][1],min_k,distance]\n",
    "        k_result.append(k_data)\n",
    "    kmeans_iter = pd.DataFrame(k_result)\n",
    "    return kmeans_iter"
   ]
  },
  {
   "cell_type": "code",
   "execution_count": 29,
   "id": "9db0a643",
   "metadata": {},
   "outputs": [],
   "source": [
    "def kmeans(data,k):\n",
    "    min_tol = 10**(-6)\n",
    "    max_iter = 100\n",
    "    iter = 0\n",
    "    tol = 0\n",
    "    check_tol = False\n",
    "    ssd_initial = 1000\n",
    "    centroid = random_centroid(k,data)\n",
    "    while (iter < max_iter) and (check_tol == False):\n",
    "        kmeans_iter = calculate_distance(data,centroid)\n",
    "        centroid = new_centroid(kmeans_iter)\n",
    "        ssd = (kmeans_iter[3]**2).sum()\n",
    "        tol = np.abs(ssd_initial - ssd)\n",
    "        ssd_initial = ssd\n",
    "        if tol < min_tol :\n",
    "            check_tol = True\n",
    "        else :\n",
    "            check_tol = False\n",
    "        iter = iter + 1\n",
    "        print(tol,iter)\n",
    "    return kmeans_iter,ssd,centroid"
   ]
  },
  {
   "cell_type": "code",
   "execution_count": 30,
   "id": "02fe6645",
   "metadata": {},
   "outputs": [
    {
     "name": "stdout",
     "output_type": "stream",
     "text": [
      "990.114403873291 1\n",
      "2.8449658779333173 2\n",
      "1.1072942851424905 3\n",
      "0.6949242442426442 4\n",
      "0.5371482429803098 5\n",
      "0.2998161374792119 6\n",
      "0.3667061135046872 7\n",
      "0.20259461093457132 8\n",
      "0.01993117323519078 9\n",
      "0.0 10\n"
     ]
    }
   ],
   "source": [
    "data = generate_sample(100)\n",
    "k = 4\n",
    "kmeans_result,ssd,centroid = kmeans(data,k)"
   ]
  },
  {
   "cell_type": "code",
   "execution_count": 31,
   "id": "afd22ed2",
   "metadata": {},
   "outputs": [
    {
     "data": {
      "text/html": [
       "<div>\n",
       "<style scoped>\n",
       "    .dataframe tbody tr th:only-of-type {\n",
       "        vertical-align: middle;\n",
       "    }\n",
       "\n",
       "    .dataframe tbody tr th {\n",
       "        vertical-align: top;\n",
       "    }\n",
       "\n",
       "    .dataframe thead th {\n",
       "        text-align: right;\n",
       "    }\n",
       "</style>\n",
       "<table border=\"1\" class=\"dataframe\">\n",
       "  <thead>\n",
       "    <tr style=\"text-align: right;\">\n",
       "      <th></th>\n",
       "      <th>0</th>\n",
       "      <th>1</th>\n",
       "      <th>2</th>\n",
       "      <th>3</th>\n",
       "    </tr>\n",
       "  </thead>\n",
       "  <tbody>\n",
       "    <tr>\n",
       "      <th>0</th>\n",
       "      <td>0.147537</td>\n",
       "      <td>0.762244</td>\n",
       "      <td>1</td>\n",
       "      <td>0.113781</td>\n",
       "    </tr>\n",
       "    <tr>\n",
       "      <th>1</th>\n",
       "      <td>0.169920</td>\n",
       "      <td>0.701044</td>\n",
       "      <td>1</td>\n",
       "      <td>0.122986</td>\n",
       "    </tr>\n",
       "    <tr>\n",
       "      <th>2</th>\n",
       "      <td>0.610776</td>\n",
       "      <td>0.238118</td>\n",
       "      <td>2</td>\n",
       "      <td>0.121940</td>\n",
       "    </tr>\n",
       "    <tr>\n",
       "      <th>3</th>\n",
       "      <td>0.549827</td>\n",
       "      <td>0.260616</td>\n",
       "      <td>2</td>\n",
       "      <td>0.182774</td>\n",
       "    </tr>\n",
       "    <tr>\n",
       "      <th>4</th>\n",
       "      <td>0.482981</td>\n",
       "      <td>0.143612</td>\n",
       "      <td>3</td>\n",
       "      <td>0.263384</td>\n",
       "    </tr>\n",
       "    <tr>\n",
       "      <th>...</th>\n",
       "      <td>...</td>\n",
       "      <td>...</td>\n",
       "      <td>...</td>\n",
       "      <td>...</td>\n",
       "    </tr>\n",
       "    <tr>\n",
       "      <th>95</th>\n",
       "      <td>0.360127</td>\n",
       "      <td>0.766793</td>\n",
       "      <td>1</td>\n",
       "      <td>0.103140</td>\n",
       "    </tr>\n",
       "    <tr>\n",
       "      <th>96</th>\n",
       "      <td>0.054594</td>\n",
       "      <td>0.690670</td>\n",
       "      <td>1</td>\n",
       "      <td>0.225382</td>\n",
       "    </tr>\n",
       "    <tr>\n",
       "      <th>97</th>\n",
       "      <td>0.893420</td>\n",
       "      <td>0.791611</td>\n",
       "      <td>4</td>\n",
       "      <td>0.124132</td>\n",
       "    </tr>\n",
       "    <tr>\n",
       "      <th>98</th>\n",
       "      <td>0.956773</td>\n",
       "      <td>0.449364</td>\n",
       "      <td>2</td>\n",
       "      <td>0.300952</td>\n",
       "    </tr>\n",
       "    <tr>\n",
       "      <th>99</th>\n",
       "      <td>0.138830</td>\n",
       "      <td>0.483875</td>\n",
       "      <td>3</td>\n",
       "      <td>0.227674</td>\n",
       "    </tr>\n",
       "  </tbody>\n",
       "</table>\n",
       "<p>100 rows × 4 columns</p>\n",
       "</div>"
      ],
      "text/plain": [
       "           0         1  2         3\n",
       "0   0.147537  0.762244  1  0.113781\n",
       "1   0.169920  0.701044  1  0.122986\n",
       "2   0.610776  0.238118  2  0.121940\n",
       "3   0.549827  0.260616  2  0.182774\n",
       "4   0.482981  0.143612  3  0.263384\n",
       "..       ...       ... ..       ...\n",
       "95  0.360127  0.766793  1  0.103140\n",
       "96  0.054594  0.690670  1  0.225382\n",
       "97  0.893420  0.791611  4  0.124132\n",
       "98  0.956773  0.449364  2  0.300952\n",
       "99  0.138830  0.483875  3  0.227674\n",
       "\n",
       "[100 rows x 4 columns]"
      ]
     },
     "execution_count": 31,
     "metadata": {},
     "output_type": "execute_result"
    }
   ],
   "source": [
    "kmeans_result"
   ]
  },
  {
   "cell_type": "code",
   "execution_count": 32,
   "id": "7ce1f510",
   "metadata": {},
   "outputs": [
    {
     "data": {
      "text/plain": [
       "[(0.2587999884447031, 0.7860487957489426),\n",
       " (0.7322306554372033, 0.24898206660992944),\n",
       " (0.26886319331930725, 0.2969884399231881),\n",
       " (0.7698332439297499, 0.7799877791884542)]"
      ]
     },
     "execution_count": 32,
     "metadata": {},
     "output_type": "execute_result"
    }
   ],
   "source": [
    "centroid"
   ]
  },
  {
   "cell_type": "code",
   "execution_count": 33,
   "id": "691a32b6",
   "metadata": {},
   "outputs": [
    {
     "data": {
      "text/plain": [
       "3.812215441256531"
      ]
     },
     "execution_count": 33,
     "metadata": {},
     "output_type": "execute_result"
    }
   ],
   "source": [
    "ssd"
   ]
  }
 ],
 "metadata": {
  "kernelspec": {
   "display_name": "Python 3",
   "language": "python",
   "name": "python3"
  },
  "language_info": {
   "codemirror_mode": {
    "name": "ipython",
    "version": 3
   },
   "file_extension": ".py",
   "mimetype": "text/x-python",
   "name": "python",
   "nbconvert_exporter": "python",
   "pygments_lexer": "ipython3",
   "version": "3.8.3"
  }
 },
 "nbformat": 4,
 "nbformat_minor": 5
}
