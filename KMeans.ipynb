{
 "cells": [
  {
   "cell_type": "markdown",
   "id": "95a67e44",
   "metadata": {},
   "source": [
    "# K-Means Algorithm"
   ]
  },
  {
   "cell_type": "code",
   "execution_count": 10,
   "id": "08a37abc",
   "metadata": {},
   "outputs": [],
   "source": [
    "import numpy as np\n",
    "import pandas as pd\n",
    "import random"
   ]
  },
  {
   "cell_type": "code",
   "execution_count": 2,
   "id": "ceffa2f0",
   "metadata": {},
   "outputs": [],
   "source": [
    "## defining the variable"
   ]
  },
  {
   "cell_type": "code",
   "execution_count": 6,
   "id": "1897f438",
   "metadata": {},
   "outputs": [],
   "source": [
    "def generate_sample(n):\n",
    "    data = np.random.rand(n,2)\n",
    "    return data"
   ]
  },
  {
   "cell_type": "code",
   "execution_count": 50,
   "id": "dc636a89",
   "metadata": {},
   "outputs": [],
   "source": [
    "def random_centroid(k,data):\n",
    "    centroid = np.random.rand(k,2)\n",
    "    for i in range(k):\n",
    "        centroid[i] = np.min(centroid[i,:]) + (np.max(centroid[i,:]) - np.min(centroid[i,:])) * centroid[i,:]\n",
    "    return centroid"
   ]
  },
  {
   "cell_type": "code",
   "execution_count": 170,
   "id": "90578a24",
   "metadata": {},
   "outputs": [],
   "source": [
    "def new_centroid(kmeans_iter):\n",
    "    new_centroid = []\n",
    "    for centroid in kmeans_iter[2].unique():\n",
    "        data_check = kmeans_iter.loc[kmeans_iter[2]==centroid]\n",
    "        centroid_point_1 = data_check[0].mean()\n",
    "        centroid_point_2 = data_check[1].mean()\n",
    "        centroid_iter = (centroid_point_1,centroid_point_2)\n",
    "        new_centroid.append(centroid_iter)\n",
    "    return new_centroid"
   ]
  },
  {
   "cell_type": "code",
   "execution_count": 206,
   "id": "cc21902b",
   "metadata": {},
   "outputs": [],
   "source": [
    "def calculate_distance(data,centroid):\n",
    "    k_result = []\n",
    "    for i in range(len(data)):\n",
    "        result = []\n",
    "        for k in range(len(centroid)):\n",
    "            distance = np.linalg.norm(data[i] - centroid[k])\n",
    "            calculate = [k,distance]\n",
    "            result.append(calculate)\n",
    "        distance_calc = pd.DataFrame(result)\n",
    "        min_distance = distance_calc.loc[distance_calc[1]==distance_calc[1].min()]\n",
    "        min_k = min_distance.iloc[0,0] + 1\n",
    "        distance = min_distance.iloc[0,1]\n",
    "        k_data = [data[i][0],data[i][1],min_k,distance]\n",
    "        k_result.append(k_data)\n",
    "    kmeans_iter = pd.DataFrame(k_result)\n",
    "    return kmeans_iter"
   ]
  },
  {
   "cell_type": "code",
   "execution_count": 213,
   "id": "0c669fa8",
   "metadata": {},
   "outputs": [],
   "source": [
    "def kmeans(data,k):\n",
    "    min_tol = 10**(-6)\n",
    "    max_iter = 100\n",
    "    iter = 0\n",
    "    tol = 0\n",
    "    check_tol = False\n",
    "    ssd_initial = 1000\n",
    "    centroid = random_centroid(k,data)\n",
    "    while (iter < max_iter) and (check_tol == False):\n",
    "        kmeans_iter = calculate_distance(data,centroid)\n",
    "        centroid = new_centroid(kmeans_iter)\n",
    "        ssd = (kmeans_iter[3]**2).sum()\n",
    "        tol = np.abs(ssd_initial - ssd)\n",
    "        ssd_initial = ssd\n",
    "        if tol < min_tol :\n",
    "            check_tol = True\n",
    "        else :\n",
    "            check_tol = False\n",
    "        iter = iter + 1\n",
    "        print(tol,iter)\n",
    "    return kmeans_iter,ssd,centroid"
   ]
  },
  {
   "cell_type": "code",
   "execution_count": 217,
   "id": "932724a9",
   "metadata": {},
   "outputs": [
    {
     "name": "stdout",
     "output_type": "stream",
     "text": [
      "986.8622490150846 1\n",
      "6.413440166796478 2\n",
      "0.5237295816762124 3\n",
      "0.46983763200922457 4\n",
      "0.34992674493364007 5\n",
      "0.16336832691854575 6\n",
      "0.1570856974429553 7\n",
      "0.1008801878625123 8\n",
      "0.12030565268131976 9\n",
      "0.11919499072391027 10\n",
      "0.0993310002108787 11\n",
      "0.022116286183155864 12\n",
      "0.0 13\n"
     ]
    }
   ],
   "source": [
    "data = generate_sample(100)\n",
    "k = 4\n",
    "kmeans_result,ssd,centroid = kmeans(data,k)"
   ]
  },
  {
   "cell_type": "code",
   "execution_count": 218,
   "id": "f23cb7a3",
   "metadata": {},
   "outputs": [
    {
     "data": {
      "text/html": [
       "<div>\n",
       "<style scoped>\n",
       "    .dataframe tbody tr th:only-of-type {\n",
       "        vertical-align: middle;\n",
       "    }\n",
       "\n",
       "    .dataframe tbody tr th {\n",
       "        vertical-align: top;\n",
       "    }\n",
       "\n",
       "    .dataframe thead th {\n",
       "        text-align: right;\n",
       "    }\n",
       "</style>\n",
       "<table border=\"1\" class=\"dataframe\">\n",
       "  <thead>\n",
       "    <tr style=\"text-align: right;\">\n",
       "      <th></th>\n",
       "      <th>0</th>\n",
       "      <th>1</th>\n",
       "      <th>2</th>\n",
       "      <th>3</th>\n",
       "    </tr>\n",
       "  </thead>\n",
       "  <tbody>\n",
       "    <tr>\n",
       "      <th>0</th>\n",
       "      <td>0.967038</td>\n",
       "      <td>0.358473</td>\n",
       "      <td>1</td>\n",
       "      <td>0.125051</td>\n",
       "    </tr>\n",
       "    <tr>\n",
       "      <th>1</th>\n",
       "      <td>0.587187</td>\n",
       "      <td>0.638023</td>\n",
       "      <td>2</td>\n",
       "      <td>0.150861</td>\n",
       "    </tr>\n",
       "    <tr>\n",
       "      <th>2</th>\n",
       "      <td>0.045442</td>\n",
       "      <td>0.806879</td>\n",
       "      <td>3</td>\n",
       "      <td>0.190563</td>\n",
       "    </tr>\n",
       "    <tr>\n",
       "      <th>3</th>\n",
       "      <td>0.779916</td>\n",
       "      <td>0.123961</td>\n",
       "      <td>1</td>\n",
       "      <td>0.242035</td>\n",
       "    </tr>\n",
       "    <tr>\n",
       "      <th>4</th>\n",
       "      <td>0.531613</td>\n",
       "      <td>0.402881</td>\n",
       "      <td>4</td>\n",
       "      <td>0.259295</td>\n",
       "    </tr>\n",
       "    <tr>\n",
       "      <th>...</th>\n",
       "      <td>...</td>\n",
       "      <td>...</td>\n",
       "      <td>...</td>\n",
       "      <td>...</td>\n",
       "    </tr>\n",
       "    <tr>\n",
       "      <th>95</th>\n",
       "      <td>0.728513</td>\n",
       "      <td>0.850060</td>\n",
       "      <td>2</td>\n",
       "      <td>0.120526</td>\n",
       "    </tr>\n",
       "    <tr>\n",
       "      <th>96</th>\n",
       "      <td>0.405682</td>\n",
       "      <td>0.142152</td>\n",
       "      <td>4</td>\n",
       "      <td>0.083155</td>\n",
       "    </tr>\n",
       "    <tr>\n",
       "      <th>97</th>\n",
       "      <td>0.921283</td>\n",
       "      <td>0.288476</td>\n",
       "      <td>1</td>\n",
       "      <td>0.105392</td>\n",
       "    </tr>\n",
       "    <tr>\n",
       "      <th>98</th>\n",
       "      <td>0.487653</td>\n",
       "      <td>0.187873</td>\n",
       "      <td>4</td>\n",
       "      <td>0.131570</td>\n",
       "    </tr>\n",
       "    <tr>\n",
       "      <th>99</th>\n",
       "      <td>0.429274</td>\n",
       "      <td>0.961810</td>\n",
       "      <td>2</td>\n",
       "      <td>0.267379</td>\n",
       "    </tr>\n",
       "  </tbody>\n",
       "</table>\n",
       "<p>100 rows × 4 columns</p>\n",
       "</div>"
      ],
      "text/plain": [
       "           0         1  2         3\n",
       "0   0.967038  0.358473  1  0.125051\n",
       "1   0.587187  0.638023  2  0.150861\n",
       "2   0.045442  0.806879  3  0.190563\n",
       "3   0.779916  0.123961  1  0.242035\n",
       "4   0.531613  0.402881  4  0.259295\n",
       "..       ...       ... ..       ...\n",
       "95  0.728513  0.850060  2  0.120526\n",
       "96  0.405682  0.142152  4  0.083155\n",
       "97  0.921283  0.288476  1  0.105392\n",
       "98  0.487653  0.187873  4  0.131570\n",
       "99  0.429274  0.961810  2  0.267379\n",
       "\n",
       "[100 rows x 4 columns]"
      ]
     },
     "execution_count": 218,
     "metadata": {},
     "output_type": "execute_result"
    }
   ],
   "source": [
    "kmeans_result"
   ]
  },
  {
   "cell_type": "code",
   "execution_count": 219,
   "id": "526121d4",
   "metadata": {},
   "outputs": [
    {
     "data": {
      "text/plain": [
       "[(0.8419885680063915, 0.35790060551069847),\n",
       " (0.6282379840785828, 0.7831910027802078),\n",
       " (0.17002714651259873, 0.6626822019268983),\n",
       " (0.3580056488763116, 0.21028244004115124)]"
      ]
     },
     "execution_count": 219,
     "metadata": {},
     "output_type": "execute_result"
    }
   ],
   "source": [
    "centroid"
   ]
  },
  {
   "cell_type": "code",
   "execution_count": 220,
   "id": "d3867252",
   "metadata": {},
   "outputs": [
    {
     "data": {
      "text/plain": [
       "4.59853471747666"
      ]
     },
     "execution_count": 220,
     "metadata": {},
     "output_type": "execute_result"
    }
   ],
   "source": [
    "ssd"
   ]
  }
 ],
 "metadata": {
  "kernelspec": {
   "display_name": "Python 3",
   "language": "python",
   "name": "python3"
  },
  "language_info": {
   "codemirror_mode": {
    "name": "ipython",
    "version": 3
   },
   "file_extension": ".py",
   "mimetype": "text/x-python",
   "name": "python",
   "nbconvert_exporter": "python",
   "pygments_lexer": "ipython3",
   "version": "3.8.3"
  }
 },
 "nbformat": 4,
 "nbformat_minor": 5
}
