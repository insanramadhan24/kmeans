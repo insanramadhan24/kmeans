{
 "cells": [
  {
   "cell_type": "markdown",
   "id": "dda2f7f0",
   "metadata": {},
   "source": [
    "# K-Means Algorithm"
   ]
  },
  {
   "cell_type": "code",
   "execution_count": 1,
   "id": "a867c673",
   "metadata": {},
   "outputs": [],
   "source": [
    "import numpy as np\n",
    "import pandas as pd\n",
    "import random"
   ]
  },
  {
   "cell_type": "code",
   "execution_count": 2,
   "id": "340f46a4",
   "metadata": {},
   "outputs": [],
   "source": [
    "## defining the variable"
   ]
  },
  {
   "cell_type": "code",
   "execution_count": 3,
   "id": "c7bb43b0",
   "metadata": {},
   "outputs": [],
   "source": [
    "def generate_sample(n):\n",
    "    data = np.random.rand(n,2)\n",
    "    return data"
   ]
  },
  {
   "cell_type": "code",
   "execution_count": 4,
   "id": "d2edb7ac",
   "metadata": {},
   "outputs": [],
   "source": [
    "def random_centroid(k,data):\n",
    "    centroid = np.random.rand(k,2)\n",
    "    for i in range(k):\n",
    "        centroid[i] = np.min(centroid[i,:]) + (np.max(centroid[i,:]) - np.min(centroid[i,:])) * centroid[i,:]\n",
    "    return centroid"
   ]
  },
  {
   "cell_type": "code",
   "execution_count": 5,
   "id": "9ebdb726",
   "metadata": {},
   "outputs": [],
   "source": [
    "def new_centroid(kmeans_iter):\n",
    "    new_centroid = []\n",
    "    for centroid in kmeans_iter[2].unique():\n",
    "        data_check = kmeans_iter.loc[kmeans_iter[2]==centroid]\n",
    "        centroid_point_1 = data_check[0].mean()\n",
    "        centroid_point_2 = data_check[1].mean()\n",
    "        centroid_iter = (centroid_point_1,centroid_point_2)\n",
    "        new_centroid.append(centroid_iter)\n",
    "    return new_centroid"
   ]
  },
  {
   "cell_type": "code",
   "execution_count": 6,
   "id": "435cbece",
   "metadata": {},
   "outputs": [],
   "source": [
    "def calculate_distance(data,centroid):\n",
    "    k_result = []\n",
    "    for i in range(len(data)):\n",
    "        result = []\n",
    "        for k in range(len(centroid)):\n",
    "            distance = np.linalg.norm(data[i] - centroid[k])\n",
    "            calculate = [k,distance]\n",
    "            result.append(calculate)\n",
    "        distance_calc = pd.DataFrame(result)\n",
    "        min_distance = distance_calc.loc[distance_calc[1]==distance_calc[1].min()]\n",
    "        min_k = min_distance.iloc[0,0] + 1\n",
    "        distance = min_distance.iloc[0,1]\n",
    "        k_data = [data[i][0],data[i][1],min_k,distance]\n",
    "        k_result.append(k_data)\n",
    "    kmeans_iter = pd.DataFrame(k_result)\n",
    "    return kmeans_iter"
   ]
  },
  {
   "cell_type": "code",
   "execution_count": 7,
   "id": "f93e6e37",
   "metadata": {},
   "outputs": [],
   "source": [
    "def kmeans(data,k):\n",
    "    min_tol = 10**(-6)\n",
    "    max_iter = 100\n",
    "    iter = 0\n",
    "    tol = 0\n",
    "    check_tol = False\n",
    "    ssd_initial = 1000\n",
    "    centroid = random_centroid(k,data)\n",
    "    while (iter < max_iter) and (check_tol == False):\n",
    "        kmeans_iter = calculate_distance(data,centroid)\n",
    "        centroid = new_centroid(kmeans_iter)\n",
    "        ssd = (kmeans_iter[3]**2).sum()\n",
    "        tol = np.abs(ssd_initial - ssd)\n",
    "        ssd_initial = ssd\n",
    "        if tol < min_tol :\n",
    "            check_tol = True\n",
    "        else :\n",
    "            check_tol = False\n",
    "        iter = iter + 1\n",
    "        print(tol,iter)\n",
    "        \n",
    "    kmeans_iter.columns = ['point_1','point_2','label','distance']\n",
    "    return kmeans_iter,ssd,centroid"
   ]
  },
  {
   "cell_type": "code",
   "execution_count": 8,
   "id": "226c6bbe",
   "metadata": {},
   "outputs": [
    {
     "name": "stdout",
     "output_type": "stream",
     "text": [
      "975.2920944800793 1\n",
      "16.609206832532486 2\n",
      "1.9406713422973105 3\n",
      "0.5885510686455389 4\n",
      "0.5801524745260842 5\n",
      "0.4314653434997746 6\n",
      "0.05395068292899374 7\n",
      "0.24753022431108107 8\n",
      "0.17143403358904585 9\n",
      "0.0549282502469115 10\n",
      "0.055856559956010354 11\n",
      "0.015394356797320707 12\n",
      "0.008937962093310325 13\n",
      "0.01402781546998666 14\n",
      "0.01493415947061294 15\n",
      "0.005225970142000769 16\n",
      "0.0 17\n"
     ]
    }
   ],
   "source": [
    "data = generate_sample(100)\n",
    "k = 4\n",
    "kmeans_result,ssd,centroid = kmeans(data,k)"
   ]
  },
  {
   "cell_type": "code",
   "execution_count": 9,
   "id": "302b3f0f",
   "metadata": {},
   "outputs": [
    {
     "data": {
      "text/html": [
       "<div>\n",
       "<style scoped>\n",
       "    .dataframe tbody tr th:only-of-type {\n",
       "        vertical-align: middle;\n",
       "    }\n",
       "\n",
       "    .dataframe tbody tr th {\n",
       "        vertical-align: top;\n",
       "    }\n",
       "\n",
       "    .dataframe thead th {\n",
       "        text-align: right;\n",
       "    }\n",
       "</style>\n",
       "<table border=\"1\" class=\"dataframe\">\n",
       "  <thead>\n",
       "    <tr style=\"text-align: right;\">\n",
       "      <th></th>\n",
       "      <th>point_1</th>\n",
       "      <th>point_2</th>\n",
       "      <th>label</th>\n",
       "      <th>distance</th>\n",
       "    </tr>\n",
       "  </thead>\n",
       "  <tbody>\n",
       "    <tr>\n",
       "      <th>0</th>\n",
       "      <td>0.155996</td>\n",
       "      <td>0.624646</td>\n",
       "      <td>1</td>\n",
       "      <td>0.123925</td>\n",
       "    </tr>\n",
       "    <tr>\n",
       "      <th>1</th>\n",
       "      <td>0.411776</td>\n",
       "      <td>0.542219</td>\n",
       "      <td>1</td>\n",
       "      <td>0.246539</td>\n",
       "    </tr>\n",
       "    <tr>\n",
       "      <th>2</th>\n",
       "      <td>0.006244</td>\n",
       "      <td>0.755500</td>\n",
       "      <td>1</td>\n",
       "      <td>0.235117</td>\n",
       "    </tr>\n",
       "    <tr>\n",
       "      <th>3</th>\n",
       "      <td>0.733468</td>\n",
       "      <td>0.954725</td>\n",
       "      <td>2</td>\n",
       "      <td>0.170609</td>\n",
       "    </tr>\n",
       "    <tr>\n",
       "      <th>4</th>\n",
       "      <td>0.219159</td>\n",
       "      <td>0.578464</td>\n",
       "      <td>1</td>\n",
       "      <td>0.140183</td>\n",
       "    </tr>\n",
       "    <tr>\n",
       "      <th>...</th>\n",
       "      <td>...</td>\n",
       "      <td>...</td>\n",
       "      <td>...</td>\n",
       "      <td>...</td>\n",
       "    </tr>\n",
       "    <tr>\n",
       "      <th>95</th>\n",
       "      <td>0.707481</td>\n",
       "      <td>0.469721</td>\n",
       "      <td>4</td>\n",
       "      <td>0.208089</td>\n",
       "    </tr>\n",
       "    <tr>\n",
       "      <th>96</th>\n",
       "      <td>0.969184</td>\n",
       "      <td>0.342048</td>\n",
       "      <td>4</td>\n",
       "      <td>0.215483</td>\n",
       "    </tr>\n",
       "    <tr>\n",
       "      <th>97</th>\n",
       "      <td>0.247766</td>\n",
       "      <td>0.919747</td>\n",
       "      <td>1</td>\n",
       "      <td>0.202628</td>\n",
       "    </tr>\n",
       "    <tr>\n",
       "      <th>98</th>\n",
       "      <td>0.701247</td>\n",
       "      <td>0.025248</td>\n",
       "      <td>4</td>\n",
       "      <td>0.253247</td>\n",
       "    </tr>\n",
       "    <tr>\n",
       "      <th>99</th>\n",
       "      <td>0.565798</td>\n",
       "      <td>0.289955</td>\n",
       "      <td>4</td>\n",
       "      <td>0.201272</td>\n",
       "    </tr>\n",
       "  </tbody>\n",
       "</table>\n",
       "<p>100 rows × 4 columns</p>\n",
       "</div>"
      ],
      "text/plain": [
       "     point_1   point_2  label  distance\n",
       "0   0.155996  0.624646      1  0.123925\n",
       "1   0.411776  0.542219      1  0.246539\n",
       "2   0.006244  0.755500      1  0.235117\n",
       "3   0.733468  0.954725      2  0.170609\n",
       "4   0.219159  0.578464      1  0.140183\n",
       "..       ...       ...    ...       ...\n",
       "95  0.707481  0.469721      4  0.208089\n",
       "96  0.969184  0.342048      4  0.215483\n",
       "97  0.247766  0.919747      1  0.202628\n",
       "98  0.701247  0.025248      4  0.253247\n",
       "99  0.565798  0.289955      4  0.201272\n",
       "\n",
       "[100 rows x 4 columns]"
      ]
     },
     "execution_count": 9,
     "metadata": {},
     "output_type": "execute_result"
    }
   ],
   "source": [
    "kmeans_result"
   ]
  },
  {
   "cell_type": "code",
   "execution_count": 10,
   "id": "e3278940",
   "metadata": {},
   "outputs": [
    {
     "data": {
      "text/plain": [
       "[(0.23824411485688532, 0.7173423685939985),\n",
       " (0.7435670499924024, 0.7844156205084704),\n",
       " (0.26005244658154625, 0.24037101145625595),\n",
       " (0.7660835139340311, 0.27005394796145304)]"
      ]
     },
     "execution_count": 10,
     "metadata": {},
     "output_type": "execute_result"
    }
   ],
   "source": [
    "centroid"
   ]
  },
  {
   "cell_type": "code",
   "execution_count": 11,
   "id": "fbd554d6",
   "metadata": {},
   "outputs": [
    {
     "data": {
      "text/plain": [
       "3.9156384434142733"
      ]
     },
     "execution_count": 11,
     "metadata": {},
     "output_type": "execute_result"
    }
   ],
   "source": [
    "ssd"
   ]
  }
 ],
 "metadata": {
  "kernelspec": {
   "display_name": "Python 3",
   "language": "python",
   "name": "python3"
  },
  "language_info": {
   "codemirror_mode": {
    "name": "ipython",
    "version": 3
   },
   "file_extension": ".py",
   "mimetype": "text/x-python",
   "name": "python",
   "nbconvert_exporter": "python",
   "pygments_lexer": "ipython3",
   "version": "3.8.3"
  }
 },
 "nbformat": 4,
 "nbformat_minor": 5
}
